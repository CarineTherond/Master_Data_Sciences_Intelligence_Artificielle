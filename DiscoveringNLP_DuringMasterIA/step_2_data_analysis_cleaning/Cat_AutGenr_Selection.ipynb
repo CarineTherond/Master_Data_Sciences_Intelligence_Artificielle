{
 "cells": [
  {
   "cell_type": "code",
   "execution_count": null,
   "metadata": {
    "id": "7nH4xat0oizM"
   },
   "outputs": [],
   "source": [
    "from google.colab import drive"
   ]
  },
  {
   "cell_type": "code",
   "execution_count": null,
   "metadata": {
    "colab": {
     "base_uri": "https://localhost:8080/"
    },
    "executionInfo": {
     "elapsed": 23573,
     "status": "ok",
     "timestamp": 1618743575117,
     "user": {
      "displayName": "Carine Therond",
      "photoUrl": "",
      "userId": "01656088634002615900"
     },
     "user_tz": -120
    },
    "id": "-nqVkirVojgT",
    "outputId": "88f2238c-6b62-4aa7-e90d-bd14a1d3dacf"
   },
   "outputs": [
    {
     "name": "stdout",
     "output_type": "stream",
     "text": [
      "Mounted at /content/drive\n"
     ]
    }
   ],
   "source": [
    "drive.mount('/content/drive')"
   ]
  },
  {
   "cell_type": "code",
   "execution_count": null,
   "metadata": {
    "id": "08EBco9-omWj"
   },
   "outputs": [],
   "source": []
  },
  {
   "cell_type": "code",
   "execution_count": null,
   "metadata": {
    "colab": {
     "base_uri": "https://localhost:8080/"
    },
    "executionInfo": {
     "elapsed": 3435,
     "status": "ok",
     "timestamp": 1618743930811,
     "user": {
      "displayName": "Carine Therond",
      "photoUrl": "",
      "userId": "01656088634002615900"
     },
     "user_tz": -120
    },
    "id": "BS0b7S-mpDSD",
    "outputId": "1f2ed954-d3d0-45ab-8264-a86fcc5df5b0"
   },
   "outputs": [
    {
     "name": "stdout",
     "output_type": "stream",
     "text": [
      "Requirement already satisfied: iso-639 in /usr/local/lib/python3.7/dist-packages (0.4.5)\n"
     ]
    }
   ],
   "source": [
    "!pip install iso-639"
   ]
  },
  {
   "cell_type": "code",
   "execution_count": null,
   "metadata": {
    "id": "Zo5FKTWEpGD4"
   },
   "outputs": [],
   "source": []
  },
  {
   "cell_type": "code",
   "execution_count": null,
   "metadata": {
    "id": "wEG2d3Wqoebg"
   },
   "outputs": [],
   "source": [
    "import pandas as pd\n",
    "import matplotlib.pyplot as plt\n",
    "import datetime\n",
    "import numpy as np\n",
    "import warnings\n",
    "from iso639 import languages\n",
    "\n",
    "warnings.filterwarnings('ignore', category = FutureWarning)"
   ]
  },
  {
   "cell_type": "code",
   "execution_count": null,
   "metadata": {
    "id": "rAU9-zyaoeb8"
   },
   "outputs": [],
   "source": [
    "path_scrapper = \"/content/drive/MyDrive/ProjetML/Base_BookCrossing/Base_completee/\"\n",
    "file_scrapper = path_scrapper + \"bothWebSites_InternetSearch_AllBooks_BookCrossing.csv\"\n",
    "file_scrapper_cleaned = path_scrapper + \"bothWebSites_InternetSearch_AllBooks_BookCrossing_cleaned.csv\""
   ]
  },
  {
   "cell_type": "code",
   "execution_count": null,
   "metadata": {
    "id": "XVrN4cYdoeb_"
   },
   "outputs": [],
   "source": []
  },
  {
   "cell_type": "markdown",
   "metadata": {
    "id": "NBjuXM-SoecD"
   },
   "source": [
    "# Category and author_genres"
   ]
  },
  {
   "cell_type": "code",
   "execution_count": null,
   "metadata": {
    "id": "jcUk5v5CoecF"
   },
   "outputs": [],
   "source": [
    "books_scrapped_cleaned = pd.read_csv(file_scrapper_cleaned, sep = '|')"
   ]
  },
  {
   "cell_type": "code",
   "execution_count": null,
   "metadata": {
    "colab": {
     "base_uri": "https://localhost:8080/",
     "height": 435
    },
    "executionInfo": {
     "elapsed": 1294,
     "status": "ok",
     "timestamp": 1618743960109,
     "user": {
      "displayName": "Carine Therond",
      "photoUrl": "",
      "userId": "01656088634002615900"
     },
     "user_tz": -120
    },
    "id": "PN-bC6o6oecH",
    "outputId": "eaa14082-684f-40cc-cf59-b36d3984c062"
   },
   "outputs": [
    {
     "data": {
      "text/html": [
       "<div>\n",
       "<style scoped>\n",
       "    .dataframe tbody tr th:only-of-type {\n",
       "        vertical-align: middle;\n",
       "    }\n",
       "\n",
       "    .dataframe tbody tr th {\n",
       "        vertical-align: top;\n",
       "    }\n",
       "\n",
       "    .dataframe thead th {\n",
       "        text-align: right;\n",
       "    }\n",
       "</style>\n",
       "<table border=\"1\" class=\"dataframe\">\n",
       "  <thead>\n",
       "    <tr style=\"text-align: right;\">\n",
       "      <th></th>\n",
       "      <th>isbn</th>\n",
       "      <th>isbn_13</th>\n",
       "      <th>OtherID</th>\n",
       "      <th>book_title</th>\n",
       "      <th>book_author</th>\n",
       "      <th>year_of_publication</th>\n",
       "      <th>Publisher</th>\n",
       "      <th>Category</th>\n",
       "      <th>Category_other</th>\n",
       "      <th>book_description</th>\n",
       "      <th>book_language</th>\n",
       "      <th>Image</th>\n",
       "      <th>number_of_pages</th>\n",
       "      <th>author_genres</th>\n",
       "      <th>author_genres_other</th>\n",
       "      <th>books_in_series</th>\n",
       "      <th>awards</th>\n",
       "    </tr>\n",
       "  </thead>\n",
       "  <tbody>\n",
       "    <tr>\n",
       "      <th>0</th>\n",
       "      <td>195153448</td>\n",
       "      <td>9,78E+12</td>\n",
       "      <td>0.0</td>\n",
       "      <td>Classical Mythology</td>\n",
       "      <td>Mark P. O. Morford</td>\n",
       "      <td>2003-01-01</td>\n",
       "      <td>Oxford University Press, USA</td>\n",
       "      <td>social sci</td>\n",
       "      <td>NaN</td>\n",
       "      <td>Provides an introduction to classical myths pl...</td>\n",
       "      <td>en</td>\n",
       "      <td>http://books.google.com/books/content?id=YABYK...</td>\n",
       "      <td>808.0</td>\n",
       "      <td>NaN</td>\n",
       "      <td>NaN</td>\n",
       "      <td>NaN</td>\n",
       "      <td>NaN</td>\n",
       "    </tr>\n",
       "    <tr>\n",
       "      <th>1</th>\n",
       "      <td>2005018</td>\n",
       "      <td>9,78E+12</td>\n",
       "      <td>0.0</td>\n",
       "      <td>Clara Callan : A Novel</td>\n",
       "      <td>Richard Bruce Wright</td>\n",
       "      <td>2001-01-01</td>\n",
       "      <td>HarperFlamingo Canada</td>\n",
       "      <td>actress</td>\n",
       "      <td>NaN</td>\n",
       "      <td>In a small town in Canada, Clara Callan reluct...</td>\n",
       "      <td>en</td>\n",
       "      <td>http://books.google.com/books/content?id=yfx0v...</td>\n",
       "      <td>414.0</td>\n",
       "      <td>NaN</td>\n",
       "      <td>NaN</td>\n",
       "      <td>[]</td>\n",
       "      <td>Trillium Book Award</td>\n",
       "    </tr>\n",
       "    <tr>\n",
       "      <th>2</th>\n",
       "      <td>60973129</td>\n",
       "      <td>0</td>\n",
       "      <td>IND:30000026059836</td>\n",
       "      <td>Decision in Normandy</td>\n",
       "      <td>Carlo D'Este</td>\n",
       "      <td>1991-01-01</td>\n",
       "      <td>Harper Perennial</td>\n",
       "      <td>1940-1949</td>\n",
       "      <td>NaN</td>\n",
       "      <td>Here, for the first time in paperback, is an o...</td>\n",
       "      <td>en</td>\n",
       "      <td>http://books.google.com/books/content?id=_LufA...</td>\n",
       "      <td>555.0</td>\n",
       "      <td>histori</td>\n",
       "      <td>NaN</td>\n",
       "      <td>[]</td>\n",
       "      <td>NaN</td>\n",
       "    </tr>\n",
       "    <tr>\n",
       "      <th>3</th>\n",
       "      <td>374157065</td>\n",
       "      <td>9,78E+12</td>\n",
       "      <td>0</td>\n",
       "      <td>Flu : The Story of the Great Influenza Pandemi...</td>\n",
       "      <td>Gina Bari Kolata</td>\n",
       "      <td>1999-01-01</td>\n",
       "      <td>Macmillan</td>\n",
       "      <td>medic</td>\n",
       "      <td>NaN</td>\n",
       "      <td>Describes the great flu epidemic of 1918, an o...</td>\n",
       "      <td>en</td>\n",
       "      <td>http://books.google.com/books/content?id=GkthX...</td>\n",
       "      <td>330.0</td>\n",
       "      <td>health</td>\n",
       "      <td>NaN</td>\n",
       "      <td>[]</td>\n",
       "      <td>NaN</td>\n",
       "    </tr>\n",
       "    <tr>\n",
       "      <th>4</th>\n",
       "      <td>393045218</td>\n",
       "      <td>9,78E+12</td>\n",
       "      <td>0.0</td>\n",
       "      <td>The Mummies of Ürümchi</td>\n",
       "      <td>E. J. W. Barber</td>\n",
       "      <td>1999-01-01</td>\n",
       "      <td>W. W. Norton</td>\n",
       "      <td>design</td>\n",
       "      <td>NaN</td>\n",
       "      <td>A look at the incredibly well-preserved ancien...</td>\n",
       "      <td>en</td>\n",
       "      <td>http://books.google.com/books/content?id=5OujQ...</td>\n",
       "      <td>240.0</td>\n",
       "      <td>histori</td>\n",
       "      <td>NaN</td>\n",
       "      <td>[]</td>\n",
       "      <td>NaN</td>\n",
       "    </tr>\n",
       "  </tbody>\n",
       "</table>\n",
       "</div>"
      ],
      "text/plain": [
       "        isbn   isbn_13  ... books_in_series               awards\n",
       "0  195153448  9,78E+12  ...             NaN                  NaN\n",
       "1    2005018  9,78E+12  ...              []  Trillium Book Award\n",
       "2   60973129         0  ...              []                  NaN\n",
       "3  374157065  9,78E+12  ...              []                  NaN\n",
       "4  393045218  9,78E+12  ...              []                  NaN\n",
       "\n",
       "[5 rows x 17 columns]"
      ]
     },
     "execution_count": 6,
     "metadata": {
      "tags": []
     },
     "output_type": "execute_result"
    }
   ],
   "source": [
    "books_scrapped_cleaned.head(5)"
   ]
  },
  {
   "cell_type": "code",
   "execution_count": null,
   "metadata": {
    "id": "GvkPmYEyoecN"
   },
   "outputs": [],
   "source": []
  },
  {
   "cell_type": "markdown",
   "metadata": {
    "id": "zDJgG46OoecP"
   },
   "source": [
    "##### Join on both columns "
   ]
  },
  {
   "cell_type": "code",
   "execution_count": null,
   "metadata": {
    "id": "975uP810oecT"
   },
   "outputs": [],
   "source": [
    "#indexes are the categories names\n",
    "\n",
    "stats_cate = books_scrapped_cleaned[\"Category\"].value_counts(sort = True)\n",
    "cate = stats_cate.index.unique()\n",
    "\n",
    "stats_aut_genr = books_scrapped_cleaned[\"author_genres\"].value_counts(sort = True)\n",
    "aut_genr = stats_aut_genr.index.unique()"
   ]
  },
  {
   "cell_type": "code",
   "execution_count": null,
   "metadata": {
    "colab": {
     "base_uri": "https://localhost:8080/"
    },
    "executionInfo": {
     "elapsed": 517,
     "status": "ok",
     "timestamp": 1618743968311,
     "user": {
      "displayName": "Carine Therond",
      "photoUrl": "",
      "userId": "01656088634002615900"
     },
     "user_tz": -120
    },
    "id": "K6CXL6jcoecV",
    "outputId": "f1bd68eb-9109-4f5e-9e14-a95b886d8f9b"
   },
   "outputs": [
    {
     "data": {
      "text/plain": [
       "fiction          40474\n",
       "juvenile fict     5933\n",
       "biographi         3351\n",
       "mysteri           2896\n",
       "histori           2000\n",
       "Name: Category, dtype: int64"
      ]
     },
     "execution_count": 8,
     "metadata": {
      "tags": []
     },
     "output_type": "execute_result"
    }
   ],
   "source": [
    "stats_cate.head()"
   ]
  },
  {
   "cell_type": "code",
   "execution_count": null,
   "metadata": {
    "id": "Wwxti9WroecY"
   },
   "outputs": [],
   "source": [
    "#Join of books_scrapped_cleaned[\"Category\"] \n",
    "#& \n",
    "#books_scrapped_cleaned[\"author_genres\"] unique categories\n",
    "\n",
    "complete_tab = stats_cate\n",
    "\n",
    "for g in aut_genr:\n",
    "    if g in cate:\n",
    "        complete_tab[g] = stats_aut_genr[g] + stats_cate[g]\n",
    "    else:\n",
    "        complete_tab[g] = stats_aut_genr[g]"
   ]
  },
  {
   "cell_type": "code",
   "execution_count": null,
   "metadata": {
    "colab": {
     "base_uri": "https://localhost:8080/"
    },
    "executionInfo": {
     "elapsed": 525,
     "status": "ok",
     "timestamp": 1618743976974,
     "user": {
      "displayName": "Carine Therond",
      "photoUrl": "",
      "userId": "01656088634002615900"
     },
     "user_tz": -120
    },
    "id": "nnJsiqhMoece",
    "outputId": "facb3186-42dd-4b26-c335-ee15511a7e41",
    "scrolled": false
   },
   "outputs": [
    {
     "data": {
      "text/plain": [
       "fiction                         46231\n",
       "mysteri                         12402\n",
       "literatur                       11902\n",
       "romanc                           9479\n",
       "science fict                     8161\n",
       "                                ...  \n",
       "lesbianism.                         1\n",
       "bodybuild                           1\n",
       "english essay                       1\n",
       "motivation in educ                  1\n",
       "stress management for teenag        1\n",
       "Name: Category, Length: 4587, dtype: int64"
      ]
     },
     "execution_count": 10,
     "metadata": {
      "tags": []
     },
     "output_type": "execute_result"
    }
   ],
   "source": [
    "complete_tab.sort_values(ascending = False)"
   ]
  },
  {
   "cell_type": "code",
   "execution_count": null,
   "metadata": {
    "colab": {
     "base_uri": "https://localhost:8080/"
    },
    "executionInfo": {
     "elapsed": 635,
     "status": "ok",
     "timestamp": 1618744900212,
     "user": {
      "displayName": "Carine Therond",
      "photoUrl": "",
      "userId": "01656088634002615900"
     },
     "user_tz": -120
    },
    "id": "npXIkP7Itusx",
    "outputId": "72af7783-8686-4652-c8f8-377882924bc9"
   },
   "outputs": [
    {
     "data": {
      "text/plain": [
       "4587"
      ]
     },
     "execution_count": 19,
     "metadata": {
      "tags": []
     },
     "output_type": "execute_result"
    }
   ],
   "source": [
    "len(complete_tab)"
   ]
  },
  {
   "cell_type": "code",
   "execution_count": null,
   "metadata": {
    "id": "F2cYXtpQoecg"
   },
   "outputs": [],
   "source": [
    "%matplotlib inline \n",
    "import matplotlib.pyplot as plt"
   ]
  },
  {
   "cell_type": "code",
   "execution_count": null,
   "metadata": {
    "colab": {
     "base_uri": "https://localhost:8080/",
     "height": 298
    },
    "executionInfo": {
     "elapsed": 1039,
     "status": "ok",
     "timestamp": 1618745307526,
     "user": {
      "displayName": "Carine Therond",
      "photoUrl": "",
      "userId": "01656088634002615900"
     },
     "user_tz": -120
    },
    "id": "gAoUu6Pooeck",
    "outputId": "fa602791-cf7d-453f-d467-55d1eb9c4bca"
   },
   "outputs": [
    {
     "data": {
      "text/plain": [
       "Text(0, 0.5, 'log of books nb in each category')"
      ]
     },
     "execution_count": 31,
     "metadata": {
      "tags": []
     },
     "output_type": "execute_result"
    },
    {
     "data": {
      "image/png": "[encoded data removed]",
      "text/plain": [
       "<Figure size 432x288 with 1 Axes>"
      ]
     },
     "metadata": {
      "needs_background": "light",
      "tags": []
     },
     "output_type": "display_data"
    }
   ],
   "source": [
    "#Plot of the number of books inside all the 4587 categories\n",
    "# => the number axis (y) scale is in log\n",
    "\n",
    "nb_inf = 0\n",
    "nb_sup = len(complete_tab)\n",
    "\n",
    "plt.plot(np.arange(nb_inf, nb_sup), complete_tab.sort_values(ascending = False)[nb_inf:nb_sup])\n",
    "\n",
    "plt.yscale(\"log\")\n",
    "plt.xlabel(\"category n°x\")\n",
    "plt.ylabel(\"log of books nb in each category\")"
   ]
  },
  {
   "cell_type": "code",
   "execution_count": null,
   "metadata": {
    "colab": {
     "base_uri": "https://localhost:8080/",
     "height": 298
    },
    "executionInfo": {
     "elapsed": 981,
     "status": "ok",
     "timestamp": 1618749943171,
     "user": {
      "displayName": "Carine Therond",
      "photoUrl": "",
      "userId": "01656088634002615900"
     },
     "user_tz": -120
    },
    "id": "aS-OZQuWoecm",
    "outputId": "e4ce42f7-a51d-4bd2-be95-9ea4ea03a920"
   },
   "outputs": [
    {
     "data": {
      "text/plain": [
       "Text(0, 0.5, 'books nb in each category')"
      ]
     },
     "execution_count": 59,
     "metadata": {
      "tags": []
     },
     "output_type": "execute_result"
    },
    {
     "data": {
      "image/png": "[encoded data removed]",
      "text/plain": [
       "<Figure size 432x288 with 1 Axes>"
      ]
     },
     "metadata": {
      "needs_background": "light",
      "tags": []
     },
     "output_type": "display_data"
    }
   ],
   "source": [
    "#Zoom on categories with less than 3 books inside\n",
    "\n",
    "#Limits for the zoomed view : i-th books' categories (when sorted according to their member number)\n",
    "nb_inf = 1000 \n",
    "nb_sup = 2500 \n",
    "\n",
    "plt.plot(np.arange(nb_inf, nb_sup), complete_tab.sort_values(ascending = False)[nb_inf:nb_sup])\n",
    "\n",
    "plt.xlabel(\"category n°x\")\n",
    "plt.ylabel(\"books nb in each category\")"
   ]
  },
  {
   "cell_type": "code",
   "execution_count": null,
   "metadata": {
    "id": "2NScEuTZETeb"
   },
   "outputs": [],
   "source": []
  },
  {
   "cell_type": "code",
   "execution_count": null,
   "metadata": {
    "colab": {
     "base_uri": "https://localhost:8080/",
     "height": 298
    },
    "executionInfo": {
     "elapsed": 1030,
     "status": "ok",
     "timestamp": 1618750854452,
     "user": {
      "displayName": "Carine Therond",
      "photoUrl": "",
      "userId": "01656088634002615900"
     },
     "user_tz": -120
    },
    "id": "7-aH_wJ6Ah0V",
    "outputId": "8f166e37-b36c-42ff-f3dd-f3f6d1cb3cc1"
   },
   "outputs": [
    {
     "data": {
      "text/plain": [
       "Text(0, 0.5, 'books nb in each category')"
      ]
     },
     "execution_count": 64,
     "metadata": {
      "tags": []
     },
     "output_type": "execute_result"
    },
    {
     "data": {
      "image/png": "[encoded data removed]",
      "text/plain": [
       "<Figure size 432x288 with 1 Axes>"
      ]
     },
     "metadata": {
      "needs_background": "light",
      "tags": []
     },
     "output_type": "display_data"
    }
   ],
   "source": [
    "#Zoom on categories with less than 3 books inside\n",
    "\n",
    "#Limits for the zoomed view : i-th books' categories (when sorted according to their member number)\n",
    "nb_inf = 400 \n",
    "nb_sup = 1000 \n",
    "\n",
    "plt.plot(np.arange(nb_inf, nb_sup), complete_tab.sort_values(ascending = False)[nb_inf:nb_sup])\n",
    "\n",
    "plt.xlabel(\"category n°x\")\n",
    "plt.ylabel(\"books nb in each category\")"
   ]
  },
  {
   "cell_type": "code",
   "execution_count": null,
   "metadata": {
    "id": "6a4I0aCeE1Hd"
   },
   "outputs": [],
   "source": []
  },
  {
   "cell_type": "markdown",
   "metadata": {
    "id": "JKYgHuUy95j9"
   },
   "source": [
    "\n",
    "##### Keep the most famous categories"
   ]
  },
  {
   "cell_type": "code",
   "execution_count": null,
   "metadata": {
    "id": "jHnUvj5boecp"
   },
   "outputs": [],
   "source": [
    "#After the 403-th category (when sorted according to their member number), \n",
    "#it remains only at most 10 books inside\n",
    "#=> Those under-represented categories will be dropped\n",
    "\n",
    "nb_cat_sel = 403"
   ]
  },
  {
   "cell_type": "code",
   "execution_count": null,
   "metadata": {
    "colab": {
     "base_uri": "https://localhost:8080/"
    },
    "executionInfo": {
     "elapsed": 498,
     "status": "ok",
     "timestamp": 1618751134814,
     "user": {
      "displayName": "Carine Therond",
      "photoUrl": "",
      "userId": "01656088634002615900"
     },
     "user_tz": -120
    },
    "id": "NLP5Hbd6-KxI",
    "outputId": "5dc2505b-544f-4331-fa8c-9445d4b988b8"
   },
   "outputs": [
    {
     "data": {
      "text/plain": [
       "fiction         46231\n",
       "mysteri         12402\n",
       "literatur       11902\n",
       "romanc           9479\n",
       "science fict     8161\n",
       "Name: Category, dtype: int64"
      ]
     },
     "execution_count": 78,
     "metadata": {
      "tags": []
     },
     "output_type": "execute_result"
    }
   ],
   "source": [
    "complete_tab.sort_values(ascending = False)[0:nb_cat_sel].head()"
   ]
  },
  {
   "cell_type": "code",
   "execution_count": null,
   "metadata": {
    "id": "32H-Malcoecq"
   },
   "outputs": [],
   "source": [
    "complete_tab.sort_values(ascending = False)[0:nb_cat_sel].to_csv(path_scrapper + \"Sel_cat_autgenr.csv\", sep = \"|\")"
   ]
  },
  {
   "cell_type": "code",
   "execution_count": null,
   "metadata": {
    "id": "bZr3tNDdoect"
   },
   "outputs": [],
   "source": []
  }
 ],
 "metadata": {
  "colab": {
   "collapsed_sections": [],
   "name": "Cat_AutGenr_Selection.ipynb",
   "provenance": [],
   "toc_visible": true
  },
  "kernelspec": {
   "display_name": "Python 3",
   "language": "python",
   "name": "python3"
  },
  "language_info": {
   "codemirror_mode": {
    "name": "ipython",
    "version": 3
   },
   "file_extension": ".py",
   "mimetype": "text/x-python",
   "name": "python",
   "nbconvert_exporter": "python",
   "pygments_lexer": "ipython3",
   "version": "3.7.3"
  }
 },
 "nbformat": 4,
 "nbformat_minor": 1
}
